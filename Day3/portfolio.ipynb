{
 "cells": [
  {
   "cell_type": "markdown",
   "metadata": {
    "collapsed": true
   },
   "source": [
    "# _*Qiskit Finance: Portfolio Optimization*_ \n"
   ]
  },
  {
   "cell_type": "markdown",
   "metadata": {},
   "source": [
    "### Introduction\n",
    "\n",
    "[](attachment:portfoli.png)\n",
    "<img src=\"attachment:portfoli.png\" width=\"400\">\n",
    "This tutorial shows how to solve the following mean-variance portfolio optimization problem for $n$ assets:\n",
    "\n",
    "$\\begin{aligned}\n",
    "\\min_{x \\in \\{0, 1\\}^n}  q x^T \\Sigma x - \\mu^T x\\\\\n",
    "\\text{subject to: } 1^T x = B\n",
    "\\end{aligned}$\n",
    "\n",
    "where we use the following notation:\n",
    "- $x \\in \\{0, 1\\}^n$ denotes the vector of binary decision variables, which indicate which assets to pick ($x[i] = 1$) and which not to pick ($x[i] = 0$),\n",
    "- $\\mu \\in \\mathbb{R}^n$ defines the expected returns for the assets,\n",
    "- $\\Sigma \\in \\mathbb{R}^{n \\times n}$ specifies the covariances between the assets,\n",
    "- $q > 0$ controls the risk appetite of the decision maker,\n",
    "- and $B$ denotes the budget, i.e. the number of assets to be selected out of $n$.\n",
    "\n",
    "We assume the following simplifications:\n",
    "- all assets have the same price (normalized to 1),\n",
    "- the full budget $B$ has to be spent, i.e. one has to select exactly $B$ assets.\n",
    "\n",
    "The equality constraint $1^T x = B$ is mapped to a penalty term $p(1^T x - B)^2$ which is scaled by a parameter $p$ and subtracted from the objective function. \n",
    "The resulting problem can be mapped to a Hamiltonian whose groundstate corresponds to  the optimal solution.\n",
    "This notebook shows how to use the Variational Quantum Eigensolver (VQE) to find the optimal solution for a given set of parameters."
   ]
  },
  {
   "cell_type": "code",
   "execution_count": 1,
   "metadata": {},
   "outputs": [],
   "source": [
    "from qiskit import BasicAer\n",
    "from qiskit.aqua import QuantumInstance\n",
    "from qiskit.aqua import Operator, run_algorithm\n",
    "from qiskit.aqua.input import EnergyInput\n",
    "from qiskit.aqua.translators.ising import portfolio\n",
    "from qiskit.aqua.translators.data_providers import RandomDataProvider\n",
    "from qiskit.aqua.algorithms import VQE, QAOA, ExactEigensolver\n",
    "from qiskit.aqua.components.optimizers import COBYLA\n",
    "from qiskit.aqua.components.variational_forms import RY\n",
    "import numpy as np\n",
    "import datetime\n",
    "import warnings\n",
    "warnings.filterwarnings(\"ignore\", category=DeprecationWarning)\n",
    "import matplotlib.pyplot as plt\n",
    "from pandas.plotting import register_matplotlib_converters\n",
    "register_matplotlib_converters()"
   ]
  },
  {
   "cell_type": "markdown",
   "metadata": {},
   "source": [
    "### Define problem instance\n",
    "\n",
    "Here an Operator instance is created for our Hamiltonian. In this case the paulis are from an Ising Hamiltonian translated from the portfolio problem. We use a random portfolio problem for this notebook. It is straight-forward to extend this to using real financial data as illustrated here:<br>\n",
    "[Loading and Processing Stock-Market Time-Series Data](../data_providers/time_series.ipynb)"
   ]
  },
  {
   "cell_type": "code",
   "execution_count": 2,
   "metadata": {},
   "outputs": [],
   "source": [
    "# set number of assets (= number of qubits)\n",
    "num_assets = 4\n",
    "\n",
    "# Generate expected return and covariance matrix from (random) time-series\n",
    "stocks = [(\"TICKER%s\" % i) for i in range(num_assets)]\n",
    "data = RandomDataProvider(tickers=stocks,\n",
    "                 start=datetime.datetime(2016,1,1),\n",
    "                 end=datetime.datetime(2016,1,30))\n",
    "data.run()\n"
   ]
  },
  {
   "cell_type": "code",
   "execution_count": 3,
   "metadata": {
    "collapsed": true
   },
   "outputs": [
    {
     "name": "stdout",
     "output_type": "stream",
     "text": [
      "The underlying evolution of stock prices:\n"
     ]
    },
    {
     "data": {
      "image/png": "[encoded data removed]",
      "text/plain": [
       "<Figure size 432x288 with 1 Axes>"
      ]
     },
     "metadata": {
      "needs_background": "light"
     },
     "output_type": "display_data"
    },
    {
     "name": "stdout",
     "output_type": "stream",
     "text": [
      "TICKER0\n",
      "[18.992318102643566, 19.24170689273651, 18.437125692147358, 18.4595873896387, 19.883623346260954, 19.95090417519414, 18.759794653450264, 19.172720522381812, 18.462125411344285, 20.128131455935197, 20.952017394751888, 20.715714192538723, 20.371869605549602, 20.780079386904944, 20.919954604426625, 18.907950260051727, 19.531014681244173, 17.71820715331143, 18.77230756387973, 18.034813162914556, 18.1386427748174, 18.231419383179997, 18.975277939428683, 18.72285653036514, 17.120676060167607, 17.216524340266293, 15.012788991861687, 13.330951377507064, 15.043435538368506]\n",
      "TICKER1\n",
      "[88.85212652059042, 87.5660699863417, 88.563365055531, 89.4732748613394, 91.62120945961485, 92.00430852997054, 92.53437389068371, 91.46618294405636, 90.9210658409305, 91.20738808727418, 90.28943362245919, 91.52518391165805, 92.41762333550786, 92.85983293427917, 93.50635302633198, 92.54913145955594, 92.90949035953298, 93.66889410271267, 94.35357195684276, 93.65554120203723, 93.73061131319332, 94.92730664800445, 95.39863190430934, 95.78073823993016, 94.38346680649045, 93.40626819044557, 94.80128450035852, 94.35611294334481, 93.03001810500959]\n",
      "TICKER2\n",
      "[90.24486628704477, 90.7940186254112, 89.12216439251245, 89.86295761190566, 90.68095123592697, 89.58759138170359, 91.20973398816498, 89.86953585383144, 90.17085979813204, 90.31189620340163, 89.551976060501, 92.16836771989857, 93.54232463070525, 92.20564199270888, 92.11891074160513, 92.91810859976383, 91.2605642786907, 90.5534111011799, 90.18627468893737, 90.81161469713354, 89.29683360916987, 90.921142933521, 89.86054740594531, 89.41477578283359, 89.33248325450046, 88.46190227232343, 87.61321046317555, 88.3961183182998, 88.05699031317702]\n",
      "TICKER3\n",
      "[50.36410790612591, 50.45933374356734, 50.677997909288166, 49.790306719045915, 49.18256276170465, 48.65334733495709, 49.56658170884305, 48.50528340370967, 48.506877524129, 45.954124847284234, 46.58400545469407, 45.11195447422309, 44.23928740070614, 44.371202610165696, 43.94361679114798, 43.70562654745798, 43.81724620697085, 43.46036822585412, 45.388178998000114, 45.09706754943028, 44.96486862524392, 44.88659063047032, 43.922419684499324, 42.87571929218695, 45.204049692251026, 45.19476287520919, 46.57409889777361, 45.74477743458463, 47.12862375991866]\n"
     ]
    }
   ],
   "source": [
    "print(\"The underlying evolution of stock prices:\")\n",
    "for (cnt, s) in enumerate(data._tickers):\n",
    "    plt.plot(data._data[cnt], label=s)\n",
    "plt.legend()\n",
    "plt.show()\n",
    "\n",
    "for (cnt, s) in enumerate(data._tickers):\n",
    "    print(s)\n",
    "    print(data._data[cnt])"
   ]
  },
  {
   "cell_type": "code",
   "execution_count": 4,
   "metadata": {
    "scrolled": true
   },
   "outputs": [],
   "source": [
    "mu = data.get_period_return_mean_vector() #average increase\n",
    "sigma = data.get_period_return_covariance_matrix() #covariance matrix of increase\n",
    "q = 0.5 # set risk factor\n",
    "budget = 2 # set budget\n",
    "penalty = 4 # set parameter to scale the budget penalty term\n",
    "\n"
   ]
  },
  {
   "cell_type": "markdown",
   "metadata": {},
   "source": [
    "### Mathematical Formulation\n",
    "\n",
    "We wish to minimize \n",
    "\\begin{equation}\n",
    "    \\min_x(qx^T\\Sigma x-\\mu^T x)\n",
    "\\end{equation}\n",
    "subject to \n",
    "\\begin{equation}\n",
    "    (1,...,1)x = B.\n",
    "\\end{equation}\n",
    "\n",
    "The constraint can be converted into a penalty term $p(1^Tx-B)^2$. The function to minimize becomes\n",
    "\\begin{equation}\n",
    "    \\min_x\\{qx^T\\Sigma x - \\mu^T x +p\\cdot|(1,...,1)x-B|^2\\}.\n",
    "\\end{equation}\n",
    "\n",
    "Then, substitute $\\frac{1-Z_i}{2}$ for $x_i$ since $x_i\\in\\{0, 1\\}$ and eigenvalues of $Z_i$ are $\\pm 1$.\n",
    "\n",
    "With this substitution, cost function can be written as \n",
    "\n",
    "\\begin{equation}\n",
    "    \\sum_{i\\neq j}c_{ij}Z_iZ_j + \\sum_ic_iZ_i + \\text{const.}\n",
    "\\end{equation}\n",
    "for some coefficients and constant related to $q, \\Sigma, \\mu, p, N, $ etc."
   ]
  },
  {
   "cell_type": "code",
   "execution_count": 8,
   "metadata": {},
   "outputs": [
    {
     "name": "stdout",
     "output_type": "stream",
     "text": [
      "IIII\t4.00487236816692\n",
      "IIIZ\t-0.004086033668717055\n",
      "IIZI\t0.0008274477378960645\n",
      "IIZZ\t2.0000012796538034\n",
      "IZII\t-0.0004026738328078285\n",
      "IZIZ\t1.9999713296883326\n",
      "IZZI\t2.0000058258099016\n",
      "ZIII\t-0.0011088097636442625\n",
      "ZIIZ\t1.999947643253797\n",
      "ZIZI\t1.9999856488742522\n",
      "ZZII\t1.9999859740802677\n",
      "\n"
     ]
    }
   ],
   "source": [
    "(qubitOp, offset)\\\n",
    "= portfolio.get_portfolio_qubitops(mu,\n",
    "                                   sigma,\n",
    "                                   q,\n",
    "                                   budget,\n",
    "                                   penalty)\n",
    "\n",
    "algo_input = EnergyInput(qubitOp)\n",
    "print('IIII\t', offset, sep = '')\n",
    "print(qubitOp.print_operators())\n"
   ]
  },
  {
   "cell_type": "markdown",
   "metadata": {},
   "source": [
    "We define some utility methods to print the results in a nice format."
   ]
  },
  {
   "cell_type": "code",
   "execution_count": 9,
   "metadata": {},
   "outputs": [],
   "source": [
    "def index_to_selection(i, num_assets):\n",
    "    s = \"{0:b}\".format(i).rjust(num_assets)\n",
    "    x = np.array([1 if s[i]=='1' else 0 for i in reversed(range(num_assets))])\n",
    "    return x\n",
    "\n",
    "def print_result(result):\n",
    "    selection = portfolio.sample_most_likely(result['eigvecs'][0])\n",
    "    value = portfolio.portfolio_value(selection, mu, sigma, q, budget, penalty)\n",
    "    print('Optimal: selection {}, value {:.4f}'.format(selection, value))\n",
    "\n",
    "    probabilities = np.abs(result['eigvecs'][0])**2\n",
    "    i_sorted = reversed(np.argsort(probabilities))\n",
    "    print('\\n----------------- Full result ---------------------')\n",
    "    print('selection\\tvalue\\t\\tprobability')\n",
    "    print('---------------------------------------------------')\n",
    "    for i in i_sorted:\n",
    "        x = index_to_selection(i, num_assets)\n",
    "        value = portfolio.portfolio_value(x, mu, sigma, q, budget, penalty)    \n",
    "        probability = probabilities[i]\n",
    "        print('%10s\\t%.4f\\t\\t%.4f' %(x, value, probability))"
   ]
  },
  {
   "cell_type": "markdown",
   "metadata": {},
   "source": [
    "### ExactEigensolver (as a classical reference)\n",
    "Lets solve the problem. First classically...\n",
    "\n",
    "We can now use the Operator we built above without regard to the specifics of how it was created. To run an algorithm we need to prepare a configuration params dictionary. We set the algorithm for the ExactEigensolver so we can have a classical reference. The problem is set for 'ising'. Backend is not required since this is computed classically not using quantum computation. The params, along with the algo input containing the operator, are now passed to the algorithm to be run. The result is returned as a dictionary."
   ]
  },
  {
   "cell_type": "code",
   "execution_count": 10,
   "metadata": {},
   "outputs": [
    {
     "name": "stdout",
     "output_type": "stream",
     "text": [
      "Optimal: selection [0 1 1 0], value -0.0007\n",
      "\n",
      "----------------- Full result ---------------------\n",
      "selection\tvalue\t\tprobability\n",
      "---------------------------------------------------\n",
      " [0 1 1 0]\t-0.0007\t\t1.0000\n",
      " [1 1 1 1]\t16.0095\t\t0.0000\n",
      " [0 1 1 1]\t4.0015\t\t0.0000\n",
      " [1 0 1 1]\t4.0112\t\t0.0000\n",
      " [0 0 1 1]\t0.0032\t\t0.0000\n",
      " [1 1 0 1]\t4.0088\t\t0.0000\n",
      " [0 1 0 1]\t0.0007\t\t0.0000\n",
      " [1 0 0 1]\t0.0105\t\t0.0000\n",
      " [0 0 0 1]\t4.0024\t\t0.0000\n",
      " [1 1 1 0]\t4.0075\t\t0.0000\n",
      " [1 0 1 0]\t0.0091\t\t0.0000\n",
      " [0 0 1 0]\t4.0009\t\t0.0000\n",
      " [1 1 0 0]\t0.0067\t\t0.0000\n",
      " [0 1 0 0]\t3.9984\t\t0.0000\n",
      " [1 0 0 0]\t4.0083\t\t0.0000\n",
      " [0 0 0 0]\t16.0000\t\t0.0000\n"
     ]
    }
   ],
   "source": [
    "exact_eigensolver = ExactEigensolver(qubitOp, k=1)\n",
    "result = exact_eigensolver.run()\n",
    "\n",
    "\"\"\" the equivalent if using declarative approach\n",
    "algorithm_cfg = {\n",
    "    'name': 'ExactEigensolver'\n",
    "}\n",
    "\n",
    "params = {\n",
    "    'problem': {'name': 'ising'},\n",
    "    'algorithm': algorithm_cfg\n",
    "}\n",
    "result = run_algorithm(params, algo_input)\n",
    "\"\"\"\n",
    "\n",
    "print_result(result)"
   ]
  },
  {
   "cell_type": "markdown",
   "metadata": {},
   "source": [
    "### Solution using VQE\n",
    "We can now use the Variational Quantum Eigensolver (VQE) to solve the problem. We will specify the optimizer and variational form to be used.\n",
    "\n",
    "Note: You can switch to different backends by providing the name of backend.\n",
    "\n",
    "#### `Statevector_simulator`"
   ]
  },
  {
   "cell_type": "code",
   "execution_count": 33,
   "metadata": {},
   "outputs": [
    {
     "name": "stdout",
     "output_type": "stream",
     "text": [
      "Optimal: selection [0 0 1 1], value 0.0032\n",
      "\n",
      "----------------- Full result ---------------------\n",
      "selection\tvalue\t\tprobability\n",
      "---------------------------------------------------\n",
      " [0 0 1 1]\t0.0032\t\t0.6230\n",
      " [0 1 0 1]\t0.0007\t\t0.1558\n",
      " [1 0 0 1]\t0.0105\t\t0.1433\n",
      " [0 1 1 0]\t-0.0007\t\t0.0416\n",
      " [1 0 1 0]\t0.0091\t\t0.0309\n",
      " [1 1 0 0]\t0.0067\t\t0.0055\n",
      " [0 1 0 0]\t3.9984\t\t0.0000\n",
      " [0 1 1 1]\t4.0015\t\t0.0000\n",
      " [1 0 1 1]\t4.0112\t\t0.0000\n",
      " [0 0 0 1]\t4.0024\t\t0.0000\n",
      " [1 1 1 1]\t16.0095\t\t0.0000\n",
      " [0 0 0 0]\t16.0000\t\t0.0000\n",
      " [1 1 0 1]\t4.0088\t\t0.0000\n",
      " [1 1 1 0]\t4.0075\t\t0.0000\n",
      " [0 0 1 0]\t4.0009\t\t0.0000\n",
      " [1 0 0 0]\t4.0083\t\t0.0000\n"
     ]
    }
   ],
   "source": [
    "backend = BasicAer.get_backend('statevector_simulator')\n",
    "seed = np.random.randint(1, 100)\n",
    "\n",
    "cobyla = COBYLA()\n",
    "cobyla.set_options(maxiter=500)\n",
    "ry = RY(qubitOp.num_qubits, depth=3, entanglement='full')\n",
    "vqe = VQE(qubitOp, ry, cobyla)\n",
    "vqe.random_seed = seed\n",
    "\n",
    "quantum_instance = QuantumInstance(backend=backend, seed_transpiler=seed)\n",
    "\n",
    "result = vqe.run(quantum_instance)\n",
    "\n",
    "\"\"\"declarative approach\n",
    "algorithm_cfg = {\n",
    "    'name': 'VQE',\n",
    "    'operator_mode': 'matrix'\n",
    "}\n",
    "\n",
    "optimizer_cfg = {\n",
    "    'name': 'COBYLA',\n",
    "    'maxiter': 500\n",
    "}\n",
    "\n",
    "var_form_cfg = {\n",
    "    'name': 'RY',\n",
    "    'depth': 3,\n",
    "    'entanglement': 'full'\n",
    "}\n",
    "\n",
    "params = {\n",
    "    'problem': {'name': 'ising', 'random_seed': seed},\n",
    "    'algorithm': algorithm_cfg,\n",
    "    'optimizer': optimizer_cfg,\n",
    "    'variational_form': var_form_cfg\n",
    "}\n",
    "result = run_algorithm(params, algo_input, backend=backend)\n",
    "\"\"\"\n",
    "print_result(result)"
   ]
  },
  {
   "cell_type": "markdown",
   "metadata": {},
   "source": [
    "#### `qasm_simulator`"
   ]
  },
  {
   "cell_type": "code",
   "execution_count": 34,
   "metadata": {},
   "outputs": [
    {
     "data": {
      "text/plain": [
       "{'num_optimizer_evals': 136,\n",
       " 'min_val': -3.720176718070339,\n",
       " 'opt_params': array([-0.09800989,  1.25273084,  1.32494483,  2.93707716, -1.83337049,\n",
       "         1.20887697, -2.51971014,  1.55139079,  2.67375234, -1.02232719,\n",
       "         1.0246803 ,  0.70148744,  1.95182791,  2.78829603, -2.54022005,\n",
       "        -1.37888637]),\n",
       " 'eval_time': 45.0308039188385,\n",
       " 'eval_count': 136,\n",
       " 'energy': -3.720176718070339,\n",
       " 'eigvals': array([-3.72017672]),\n",
       " 'min_vector': {'0101': 470,\n",
       "  '1001': 6,\n",
       "  '0010': 5,\n",
       "  '1101': 1,\n",
       "  '1010': 16,\n",
       "  '0000': 1,\n",
       "  '1000': 1,\n",
       "  '1011': 1,\n",
       "  '1111': 1,\n",
       "  '0011': 476,\n",
       "  '1110': 24,\n",
       "  '0111': 22},\n",
       " 'eigvecs': array([{'0101': 470, '1001': 6, '0010': 5, '1101': 1, '1010': 16, '0000': 1, '1000': 1, '1011': 1, '1111': 1, '0011': 476, '1110': 24, '0111': 22}],\n",
       "       dtype=object)}"
      ]
     },
     "execution_count": 34,
     "metadata": {},
     "output_type": "execute_result"
    }
   ],
   "source": [
    "backend = BasicAer.get_backend('qasm_simulator')\n",
    "seed = 50\n",
    "\n",
    "cobyla = COBYLA()\n",
    "cobyla.set_options(maxiter=500)\n",
    "ry = RY(qubitOp.num_qubits, depth=3, entanglement='full')\n",
    "vqe = VQE(qubitOp, ry, cobyla, 'paulis')\n",
    "vqe.random_seed = seed\n",
    "\n",
    "quantum_instance = QuantumInstance(backend=backend, seed_transpiler=seed)\n",
    "\n",
    "result = vqe.run(quantum_instance)\n",
    "\n",
    "\"\"\"declarative approach\n",
    "algorithm_cfg = {\n",
    "    'name': 'VQE',\n",
    "    'operator_mode': 'matrix'\n",
    "}\n",
    "\n",
    "optimizer_cfg = {\n",
    "    'name': 'COBYLA',\n",
    "    'maxiter': 500\n",
    "}\n",
    "\n",
    "var_form_cfg = {\n",
    "    'name': 'RY',\n",
    "    'depth': 3,\n",
    "    'entanglement': 'full'\n",
    "}\n",
    "\n",
    "params = {\n",
    "    'problem': {'name': 'ising', 'random_seed': seed},\n",
    "    'algorithm': algorithm_cfg,\n",
    "    'optimizer': optimizer_cfg,\n",
    "    'variational_form': var_form_cfg\n",
    "}\n",
    "result = run_algorithm(params, algo_input, backend=backend)\n",
    "\"\"\"\n",
    "result"
   ]
  },
  {
   "cell_type": "markdown",
   "metadata": {},
   "source": [
    "reference:\n",
    "\n",
    "\n",
    "https://github.com/Qiskit/qiskit-tutorials/blob/master/qiskit/finance/optimization/portfolio_optimization.ipynb\n",
    "\n",
    "\n",
    "https://github.com/Qiskit/qiskit-tutorials/blob/d8308cdf717046923a8f01e0c899ef3f19401c63/qiskit/finance/data_providers/time_series.ipynb\n"
   ]
  },
  {
   "cell_type": "code",
   "execution_count": 38,
   "metadata": {},
   "outputs": [],
   "source": [
    "cnts  = result['min_vector']"
   ]
  },
  {
   "cell_type": "code",
   "execution_count": 41,
   "metadata": {},
   "outputs": [],
   "source": [
    "from qiskit.tools.visualization import plot_histogram"
   ]
  },
  {
   "cell_type": "code",
   "execution_count": 42,
   "metadata": {},
   "outputs": [
    {
     "data": {
      "image/png": "[encoded data removed]",
      "text/plain": [
       "<Figure size 504x360 with 1 Axes>"
      ]
     },
     "execution_count": 42,
     "metadata": {},
     "output_type": "execute_result"
    }
   ],
   "source": [
    "plot_histogram(cnts)"
   ]
  },
  {
   "cell_type": "code",
   "execution_count": null,
   "metadata": {},
   "outputs": [],
   "source": []
  }
 ],
 "metadata": {
  "anaconda-cloud": {},
  "kernelspec": {
   "display_name": "Python 3",
   "language": "python",
   "name": "python3"
  },
  "language_info": {
   "codemirror_mode": {
    "name": "ipython",
    "version": 3
   },
   "file_extension": ".py",
   "mimetype": "text/x-python",
   "name": "python",
   "nbconvert_exporter": "python",
   "pygments_lexer": "ipython3",
   "version": "3.7.3"
  }
 },
 "nbformat": 4,
 "nbformat_minor": 1
}
