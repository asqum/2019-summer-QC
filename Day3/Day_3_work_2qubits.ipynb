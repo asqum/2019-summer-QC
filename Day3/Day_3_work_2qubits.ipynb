{
 "cells": [
  {
   "cell_type": "code",
   "execution_count": 52,
   "metadata": {},
   "outputs": [],
   "source": [
    "import numpy as np\n",
    "import time\n",
    "import matplotlib\n",
    "from qiskit import IBMQ\n",
    "\n",
    "# Import Qiskit classes\n",
    "import qiskit \n",
    "from qiskit import QuantumRegister, QuantumCircuit, ClassicalRegister, execute, BasicAer\n",
    "from qiskit.providers.aer import noise\n",
    "from qiskit.tools.visualization import plot_histogram\n",
    "\n",
    "# Import measurement calibration functions\n",
    "from qiskit.ignis.mitigation.measurement import (complete_meas_cal, tensored_meas_cal,\n",
    "                                                 CompleteMeasFitter, TensoredMeasFitter)"
   ]
  },
  {
   "cell_type": "code",
   "execution_count": 2,
   "metadata": {},
   "outputs": [
    {
     "name": "stdout",
     "output_type": "stream",
     "text": [
      "{'token': '65088dc588c36ec78f59b96f03d954a06f733be46c84aaae67c0e42e3cbb7062e6a316fdd71135631ff5e9e53bc40c7b547b5c880228553ec7c8d549d51feb03', 'url': 'https://auth.quantum-computing.ibm.com/api'}\n",
      "[<AccountProvider for IBMQ(hub='ibm-q', group='open', project='main')>]\n",
      "[<IBMQSimulator('ibmq_qasm_simulator') from IBMQ(hub='ibm-q', group='open', project='main')>, <IBMQBackend('ibmqx4') from IBMQ(hub='ibm-q', group='open', project='main')>, <IBMQBackend('ibmqx2') from IBMQ(hub='ibm-q', group='open', project='main')>, <IBMQBackend('ibmq_16_melbourne') from IBMQ(hub='ibm-q', group='open', project='main')>]\n"
     ]
    }
   ],
   "source": [
    "# Load account from disk\n",
    "provider = IBMQ.load_account()\n",
    "# List the account currently in the session\n",
    "print(IBMQ.active_account())\n",
    "# List all available providers\n",
    "print(IBMQ.providers())\n",
    "# List all available providers \n",
    "print(provider.backends())"
   ]
  },
  {
   "cell_type": "code",
   "execution_count": 3,
   "metadata": {},
   "outputs": [],
   "source": [
    "# def exp_decomp_u(a, b, q):\n",
    "#     return u3(a, b+np.pi, -b, q)"
   ]
  },
  {
   "cell_type": "code",
   "execution_count": 54,
   "metadata": {},
   "outputs": [],
   "source": [
    "qr = QuantumRegister(2, 'q')\n",
    "cr = ClassicalRegister(2, 'c')\n",
    "def vqe_ansatz(theta):\n",
    "    var_circ= QuantumCircuit(qr)\n",
    "    var_circ.ry(theta,qr)\n",
    "    return var_circ"
   ]
  },
  {
   "cell_type": "code",
   "execution_count": 55,
   "metadata": {},
   "outputs": [
    {
     "data": {
      "text/html": [
       "<pre style=\"word-wrap: normal;white-space: pre;line-height: 15px;\">        ┌───────┐\n",
       "q_0: |0>┤ Ry(0) ├\n",
       "        ├───────┤\n",
       "q_1: |0>┤ Ry(0) ├\n",
       "        └───────┘</pre>"
      ],
      "text/plain": [
       "<qiskit.visualization.text.TextDrawing at 0x1b36d4bd438>"
      ]
     },
     "execution_count": 55,
     "metadata": {},
     "output_type": "execute_result"
    }
   ],
   "source": [
    "vqe_ansatz(0).draw()"
   ]
  },
  {
   "cell_type": "code",
   "execution_count": 56,
   "metadata": {},
   "outputs": [
    {
     "name": "stdout",
     "output_type": "stream",
     "text": [
      "-1.8566195832\n"
     ]
    },
    {
     "data": {
      "text/plain": [
       "float"
      ]
     },
     "execution_count": 56,
     "metadata": {},
     "output_type": "execute_result"
    }
   ],
   "source": [
    "simulator = BasicAer.get_backend('qasm_simulator')\n",
    "sample_shots = 10000\n",
    "\n",
    "def expval(parameter):\n",
    "    \n",
    "    init_state = vqe_ansatz(parameter)\n",
    "    circ = QuantumCircuit(qr, cr)\n",
    "    circ.barrier(qr)\n",
    "    circ.ry(-np.pi/2, qr[0])\n",
    "    circ.measure(qr[0], cr[0])\n",
    "    circ.measure(qr[1], cr[1])\n",
    "    vqe = init_state + circ\n",
    "    job = execute(vqe, simulator, shots = sample_shots)\n",
    "    counts = job.result().get_counts()\n",
    "    P_00 = counts.get('00', 0)/sample_shots\n",
    "    P_10 = counts.get('10', 0)/sample_shots\n",
    "    P_01 = counts.get('01', 0)/sample_shots\n",
    "    P_11 = counts.get('11', 0)/sample_shots\n",
    "    final_state = np.array([P_00, P_10, P_01, P_11])\n",
    "    X = np.array([1, -1, 1, -1])\n",
    "    Z = np.array([1, 1, -1, -1])\n",
    "    vqe_ans = -1.0421749 + 0.789689*np.dot(X, final_state) + 0.181210*np.dot(Z, final_state)\n",
    "    return float(vqe_ans)\n",
    "test_expval = expval(3.36)\n",
    "print(test_expval)\n",
    "type(test_expval)"
   ]
  },
  {
   "cell_type": "code",
   "execution_count": 25,
   "metadata": {
    "scrolled": true
   },
   "outputs": [],
   "source": []
  },
  {
   "cell_type": "code",
   "execution_count": null,
   "metadata": {},
   "outputs": [],
   "source": []
  },
  {
   "cell_type": "code",
   "execution_count": 58,
   "metadata": {},
   "outputs": [
    {
     "data": {
      "text/plain": [
       "     fun: -1.851854311\n",
       "   maxcv: 0.0\n",
       " message: 'Optimization terminated successfully.'\n",
       "    nfev: 19\n",
       "  status: 1\n",
       " success: True\n",
       "       x: array([3.32919265])"
      ]
     },
     "execution_count": 58,
     "metadata": {},
     "output_type": "execute_result"
    }
   ],
   "source": [
    "from scipy.optimize import minimize\n",
    "initial_guess=[np.pi]\n",
    "\n",
    "ans = minimize(expval,initial_guess,method='COBYLA')\n",
    "ans"
   ]
  },
  {
   "cell_type": "code",
   "execution_count": null,
   "metadata": {},
   "outputs": [],
   "source": []
  }
 ],
 "metadata": {
  "kernelspec": {
   "display_name": "Python 3",
   "language": "python",
   "name": "python3"
  },
  "language_info": {
   "codemirror_mode": {
    "name": "ipython",
    "version": 3
   },
   "file_extension": ".py",
   "mimetype": "text/x-python",
   "name": "python",
   "nbconvert_exporter": "python",
   "pygments_lexer": "ipython3",
   "version": "3.7.3"
  }
 },
 "nbformat": 4,
 "nbformat_minor": 2
}
