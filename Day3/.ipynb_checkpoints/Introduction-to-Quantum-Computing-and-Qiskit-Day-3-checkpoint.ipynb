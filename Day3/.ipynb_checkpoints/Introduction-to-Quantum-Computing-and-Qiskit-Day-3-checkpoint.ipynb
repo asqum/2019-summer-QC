{
 "cells": [
  {
   "cell_type": "markdown",
   "metadata": {},
   "source": [
    "# The Variational Quantum Eigensolver"
   ]
  },
  {
   "cell_type": "markdown",
   "metadata": {},
   "source": [
    "VQE 1234\n",
    "\n",
    " One:   One core concept: Variational principle <br/>\n",
    " Two:   Two subroutine: Quantum and Classical <br/>\n",
    "Three:  Three steps: Ansatz preparation, measure expectation and optimization <br/>\n",
    "And........  For Success!"
   ]
  },
  {
   "cell_type": "code",
   "execution_count": 1,
   "metadata": {
    "scrolled": true
   },
   "outputs": [
    {
     "data": {
      "text/plain": [
       "{'qiskit': '0.11.0',\n",
       " 'qiskit-terra': '0.8.2',\n",
       " 'qiskit-ignis': '0.1.1',\n",
       " 'qiskit-aer': '0.2.3',\n",
       " 'qiskit-ibmq-provider': '0.3.0',\n",
       " 'qiskit-aqua': '0.5.2'}"
      ]
     },
     "execution_count": 1,
     "metadata": {},
     "output_type": "execute_result"
    }
   ],
   "source": [
    "from qiskit import version\n",
    "version._get_qiskit_versions()"
   ]
  },
  {
   "cell_type": "markdown",
   "metadata": {},
   "source": [
    "## VQE in nutshell: eigenvalue of pauli Z matrix\n"
   ]
  },
  {
   "cell_type": "markdown",
   "metadata": {},
   "source": [
    "#### Import package"
   ]
  },
  {
   "cell_type": "code",
   "execution_count": 2,
   "metadata": {},
   "outputs": [],
   "source": [
    "from qiskit import QuantumRegister, ClassicalRegister, QuantumCircuit\n",
    "from qiskit import Aer, execute\n",
    "import numpy as np"
   ]
  },
  {
   "cell_type": "markdown",
   "metadata": {},
   "source": [
    "### Step 1: Ansatz preparation"
   ]
  },
  {
   "cell_type": "code",
   "execution_count": 3,
   "metadata": {},
   "outputs": [],
   "source": [
    "qr = QuantumRegister(1, 'q')\n",
    "def vqe_ansatz(theta):\n",
    "    var_circ= QuantumCircuit(qr)\n",
    "    var_circ.ry(theta,qr)\n",
    "    return var_circ"
   ]
  },
  {
   "cell_type": "markdown",
   "metadata": {},
   "source": [
    "### Step 2: Measure Expectation value (qasm backend)"
   ]
  },
  {
   "cell_type": "code",
   "execution_count": 4,
   "metadata": {},
   "outputs": [],
   "source": [
    "### Select simulator\n",
    "QC_simulator = Aer.get_backend('qasm_simulator')\n",
    "\n",
    "# Define number of measurments shots\n",
    "sample_shots=20000\n",
    "\n",
    "cr = ClassicalRegister(1, 'c')\n",
    "def expval(parameter):\n",
    "    \n",
    "    # Call ansatz\n",
    "    circ_in=vqe_ansatz(parameter)\n",
    "    \n",
    "    # Measure in z basis\n",
    "    meas = QuantumCircuit(qr, cr)\n",
    "    meas.barrier(qr)\n",
    "    meas.measure(qr,cr)\n",
    "    vqe=circ_in+meas\n",
    "    \n",
    "    # Compile and execute\n",
    "    job_sim = execute(vqe, QC_simulator,shots=sample_shots)\n",
    "    result_sim = job_sim.result().get_counts()\n",
    "    \n",
    "    # Calculate expectation\n",
    "    P_0=result_sim.get('0',0)/sample_shots\n",
    "    P_1=result_sim.get('1',0)/sample_shots\n",
    "    \n",
    "    return P_0-P_1"
   ]
  },
  {
   "cell_type": "markdown",
   "metadata": {},
   "source": [
    "#### Test yout expectation value"
   ]
  },
  {
   "cell_type": "code",
   "execution_count": 5,
   "metadata": {},
   "outputs": [
    {
     "name": "stdout",
     "output_type": "stream",
     "text": [
      "Expectation value : 0.8786\n"
     ]
    }
   ],
   "source": [
    "test_expval=expval(0.5)\n",
    "print(\"Expectation value : {}\".format(test_expval))"
   ]
  },
  {
   "cell_type": "markdown",
   "metadata": {},
   "source": [
    "### Step 3: Optimization"
   ]
  },
  {
   "cell_type": "markdown",
   "metadata": {},
   "source": [
    "Since in this case, we have only one parameter $\\theta$, we can calculate the expectation value for $\\theta \\in [0,2\\pi]$"
   ]
  },
  {
   "cell_type": "code",
   "execution_count": 6,
   "metadata": {},
   "outputs": [
    {
     "data": {
      "image/png": "[encoded data removed]",
      "text/plain": [
       "<Figure size 432x288 with 1 Axes>"
      ]
     },
     "metadata": {
      "needs_background": "light"
     },
     "output_type": "display_data"
    }
   ],
   "source": [
    "theta_range = np.linspace(0.0, 2 * np.pi, 200)\n",
    "vqe_result=[expval(params) for params in theta_range]\n",
    "\n",
    "import matplotlib.pyplot as plt\n",
    "%matplotlib inline \n",
    "plt.xlabel('theta')\n",
    "plt.ylabel('Expectation value')\n",
    "plt.plot(theta_range, vqe_result)\n",
    "plt.show()"
   ]
  },
  {
   "cell_type": "code",
   "execution_count": 7,
   "metadata": {
    "scrolled": true
   },
   "outputs": [
    {
     "name": "stdout",
     "output_type": "stream",
     "text": [
      "The lowest eigenvalue: -0.9998 \t corresponding parameters: 3.1258057558330608\n"
     ]
    }
   ],
   "source": [
    "print(\"The lowest eigenvalue: {0} \\t corresponding parameters: {1}\".format(min(vqe_result),theta_range[vqe_result.index(min(vqe_result))]))"
   ]
  },
  {
   "cell_type": "code",
   "execution_count": null,
   "metadata": {},
   "outputs": [],
   "source": []
  }
 ],
 "metadata": {
  "kernelspec": {
   "display_name": "Python 3",
   "language": "python",
   "name": "python3"
  },
  "language_info": {
   "codemirror_mode": {
    "name": "ipython",
    "version": 3
   },
   "file_extension": ".py",
   "mimetype": "text/x-python",
   "name": "python",
   "nbconvert_exporter": "python",
   "pygments_lexer": "ipython3",
   "version": "3.7.3"
  }
 },
 "nbformat": 4,
 "nbformat_minor": 2
}
