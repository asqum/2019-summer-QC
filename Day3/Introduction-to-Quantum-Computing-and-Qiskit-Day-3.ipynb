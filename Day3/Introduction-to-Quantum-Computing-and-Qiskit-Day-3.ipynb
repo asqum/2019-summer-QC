{
 "cells": [
  {
   "cell_type": "markdown",
   "metadata": {},
   "source": [
    "# The Variational Quantum Eigensolver"
   ]
  },
  {
   "cell_type": "markdown",
   "metadata": {},
   "source": [
    "VQE one, two, three, four\n",
    "\n",
    " One:   One core concept: Variational principle <br/>\n",
    " Two:   Two subroutine: Quantum and Classical <br/>\n",
    "Three:  Three steps: Ansatz preparation, measure expectation and optimization <br/>\n",
    "And........  For Success!"
   ]
  },
  {
   "cell_type": "code",
   "execution_count": 1,
   "metadata": {
    "scrolled": true
   },
   "outputs": [
    {
     "data": {
      "text/plain": [
       "{'qiskit': '0.11.0',\n",
       " 'qiskit-terra': '0.8.2',\n",
       " 'qiskit-ignis': '0.1.1',\n",
       " 'qiskit-aer': '0.2.3',\n",
       " 'qiskit-ibmq-provider': '0.3.0',\n",
       " 'qiskit-aqua': '0.5.2'}"
      ]
     },
     "execution_count": 1,
     "metadata": {},
     "output_type": "execute_result"
    }
   ],
   "source": [
    "from qiskit import version\n",
    "version._get_qiskit_versions()"
   ]
  },
  {
   "cell_type": "markdown",
   "metadata": {},
   "source": [
    "## VQE in nutshell: eigenvalue of pauli Z matrix\n"
   ]
  },
  {
   "cell_type": "markdown",
   "metadata": {},
   "source": [
    "#### Import package"
   ]
  },
  {
   "cell_type": "code",
   "execution_count": 2,
   "metadata": {},
   "outputs": [],
   "source": [
    "from qiskit import QuantumRegister, ClassicalRegister, QuantumCircuit\n",
    "from qiskit import BasicAer, execute\n",
    "import numpy as np"
   ]
  },
  {
   "cell_type": "markdown",
   "metadata": {},
   "source": [
    "### Step 1: Ansatz preparation"
   ]
  },
  {
   "cell_type": "markdown",
   "metadata": {},
   "source": [
    "Review of Rotation gates:"
   ]
  },
  {
   "cell_type": "markdown",
   "metadata": {},
   "source": [
    "#### Rotation around Y-axis\n",
    "\n",
    "$$\n",
    "R_y(\\theta) =\n",
    "\\begin{pmatrix}\n",
    "\\cos(\\theta/2) & - \\sin(\\theta/2)\\\\\n",
    "\\sin(\\theta/2) & \\cos(\\theta/2).\n",
    "\\end{pmatrix} =u3(\\theta,0,0)\n",
    "$$"
   ]
  },
  {
   "cell_type": "code",
   "execution_count": 3,
   "metadata": {},
   "outputs": [],
   "source": [
    "qr = QuantumRegister(1, 'q')\n",
    "\n",
    "def vqe_ansatz(theta):\n",
    "    var_circ= QuantumCircuit(qr)\n",
    "    var_circ.ry(theta,qr)\n",
    "    return var_circ"
   ]
  },
  {
   "cell_type": "markdown",
   "metadata": {},
   "source": [
    "#### Trial wave function (ansatz)"
   ]
  },
  {
   "cell_type": "markdown",
   "metadata": {},
   "source": [
    "$R_y(\\theta) | \\psi_0 \\rangle = \\begin{bmatrix}\n",
    "\\cos(\\theta/2)\\\\ \\sin(\\theta/2)\n",
    "\\end{bmatrix}$"
   ]
  },
  {
   "cell_type": "code",
   "execution_count": 4,
   "metadata": {
    "scrolled": false
   },
   "outputs": [
    {
     "data": {
      "image/png": "[encoded data removed]",
      "text/plain": [
       "<Figure size 240.8x78.26 with 1 Axes>"
      ]
     },
     "execution_count": 4,
     "metadata": {},
     "output_type": "execute_result"
    }
   ],
   "source": [
    "%matplotlib inline \n",
    "vqe_ansatz(3.14).draw(output='mpl')"
   ]
  },
  {
   "cell_type": "markdown",
   "metadata": {},
   "source": [
    "### Step 2: Measure Expectation value (qasm backend)"
   ]
  },
  {
   "cell_type": "markdown",
   "metadata": {},
   "source": [
    "Expectation value of $ \\langle \\psi_0 | H | \\psi_0 \\rangle =\\langle \\psi_0 | Z | \\psi_0 \\rangle$"
   ]
  },
  {
   "cell_type": "markdown",
   "metadata": {},
   "source": [
    "$\\begin{bmatrix}\n",
    "\\cos(\\frac{\\theta}{2}) & \\sin(\\frac{\\theta}{2})\n",
    "\\end{bmatrix}\n",
    "\\begin{bmatrix}\n",
    "1 & 0\\\\ \n",
    "0 & -1\n",
    "\\end{bmatrix}\n",
    "\\begin{bmatrix}\n",
    "\\cos(\\theta/2)\\\\ \\sin(\\theta/2)\n",
    "\\end{bmatrix} =\\cos^2(\\frac{\\theta}{2})-\\sin^2(\\frac{\\theta}{2})$"
   ]
  },
  {
   "cell_type": "code",
   "execution_count": 5,
   "metadata": {},
   "outputs": [],
   "source": [
    "### Select simulator\n",
    "QC_simulator = BasicAer.get_backend('qasm_simulator')\n",
    "\n",
    "# Define number of measurments shots\n",
    "sample_shots=1000\n",
    "\n",
    "cr = ClassicalRegister(1, 'c')\n",
    "def expval(parameter):\n",
    "    \n",
    "    # Call ansatz\n",
    "    circ_in=vqe_ansatz(parameter)\n",
    "    \n",
    "    # Measure in z basis\n",
    "    meas = QuantumCircuit(qr, cr)\n",
    "    meas.barrier(qr)\n",
    "    meas.measure(qr,cr)\n",
    "    vqe=circ_in+meas\n",
    "    \n",
    "    # Compile and execute\n",
    "    job_qasm = execute(vqe, QC_simulator,shots=sample_shots)\n",
    "    result_sim = job_qasm.result().get_counts()\n",
    "    \n",
    "    # Calculate expectation\n",
    "    P_0=result_sim.get('0',0)/sample_shots\n",
    "    P_1=result_sim.get('1',0)/sample_shots\n",
    "    vqe_ans=P_0-P_1\n",
    "    \n",
    "    return vqe_ans"
   ]
  },
  {
   "cell_type": "markdown",
   "metadata": {},
   "source": [
    "#### Test yout expectation value"
   ]
  },
  {
   "cell_type": "code",
   "execution_count": 6,
   "metadata": {},
   "outputs": [
    {
     "name": "stdout",
     "output_type": "stream",
     "text": [
      "Expectation value : 0.8899999999999999\n"
     ]
    }
   ],
   "source": [
    "test_expval=expval(0.5)\n",
    "print(\"Expectation value : {}\".format(test_expval))"
   ]
  },
  {
   "cell_type": "markdown",
   "metadata": {},
   "source": [
    "### Step 3: Optimization"
   ]
  },
  {
   "cell_type": "markdown",
   "metadata": {},
   "source": [
    "$$E(\\boldsymbol\\theta)\\equiv  \\langle H \\rangle = \\langle \\psi(\\boldsymbol\\theta)| H |\\psi(\\boldsymbol\\theta)\\rangle \\ge E_0 = \\langle \\psi_0 | H | \\psi_0 \\rangle,$$ \n"
   ]
  },
  {
   "cell_type": "markdown",
   "metadata": {},
   "source": [
    "Since in this case, we have only one parameter $\\theta$, we can calculate the expectation value for $\\theta \\in [0,2\\pi]$"
   ]
  },
  {
   "cell_type": "code",
   "execution_count": 7,
   "metadata": {},
   "outputs": [
    {
     "data": {
      "image/png": "[encoded data removed]",
      "text/plain": [
       "<Figure size 432x288 with 1 Axes>"
      ]
     },
     "metadata": {
      "needs_background": "light"
     },
     "output_type": "display_data"
    }
   ],
   "source": [
    "theta_range = np.linspace(0.0, 2 * np.pi, 100)\n",
    "vqe_result=[expval(params) for params in theta_range]\n",
    "\n",
    "import matplotlib.pyplot as plt\n",
    "plt.xlabel('theta')\n",
    "plt.ylabel('Expectation value')\n",
    "plt.plot(theta_range, vqe_result)\n",
    "plt.show()"
   ]
  },
  {
   "cell_type": "code",
   "execution_count": 8,
   "metadata": {},
   "outputs": [
    {
     "name": "stdout",
     "output_type": "stream",
     "text": [
      "The lowest eigenvalue: -1.0 \t corresponding parameters: 3.1098593944626236\n"
     ]
    }
   ],
   "source": [
    "print(\"The lowest eigenvalue: {0} \\t corresponding parameters: {1}\".format(min(vqe_result),theta_range[vqe_result.index(min(vqe_result))]))"
   ]
  },
  {
   "cell_type": "markdown",
   "metadata": {},
   "source": [
    "#### Optimizer "
   ]
  },
  {
   "cell_type": "code",
   "execution_count": 9,
   "metadata": {},
   "outputs": [
    {
     "data": {
      "text/plain": [
       "     fun: -1.0\n",
       "   maxcv: 0.0\n",
       " message: 'Optimization terminated successfully.'\n",
       "    nfev: 15\n",
       "  status: 1\n",
       " success: True\n",
       "       x: array([3.125])"
      ]
     },
     "execution_count": 9,
     "metadata": {},
     "output_type": "execute_result"
    }
   ],
   "source": [
    "from scipy.optimize import minimize\n",
    "initial_guess=[0]\n",
    "\n",
    "ans=minimize(expval,initial_guess,method='COBYLA')\n",
    "ans"
   ]
  },
  {
   "cell_type": "markdown",
   "metadata": {},
   "source": [
    "## VQE with statevector simulator"
   ]
  },
  {
   "cell_type": "code",
   "execution_count": 10,
   "metadata": {},
   "outputs": [],
   "source": [
    "### Select simulator\n",
    "QC_statevector = BasicAer.get_backend('statevector_simulator')\n",
    "\n",
    "def ext_expval(parameter):\n",
    "    # Call ansatz\n",
    "    circ_ext=vqe_ansatz(parameter)\n",
    "    \n",
    "    # Compile and execute\n",
    "    job_statevector = execute(circ_ext, QC_statevector)\n",
    "\n",
    "    # Calculate expectation\n",
    "    Pext_0=job_statevector.result().get_statevector()[0]**2\n",
    "    Pext_1=job_statevector.result().get_statevector()[1]**2\n",
    "    vqe_ans=Pext_0-Pext_1\n",
    "    return vqe_ans.real\n",
    "    "
   ]
  },
  {
   "cell_type": "code",
   "execution_count": 11,
   "metadata": {},
   "outputs": [
    {
     "data": {
      "text/plain": [
       "     fun: -0.9999999940694247\n",
       "   maxcv: 0.0\n",
       " message: 'Optimization terminated successfully.'\n",
       "    nfev: 23\n",
       "  status: 1\n",
       " success: True\n",
       "       x: array([3.14170156])"
      ]
     },
     "execution_count": 11,
     "metadata": {},
     "output_type": "execute_result"
    }
   ],
   "source": [
    "from scipy.optimize import minimize\n",
    "initial_guess=[0]\n",
    "ans=minimize(ext_expval,initial_guess,method='COBYLA')\n",
    "ans"
   ]
  },
  {
   "cell_type": "markdown",
   "metadata": {},
   "source": [
    "## Now package comes in"
   ]
  },
  {
   "cell_type": "code",
   "execution_count": 12,
   "metadata": {},
   "outputs": [],
   "source": [
    "from qiskit.aqua import Operator\n",
    "from qiskit.aqua.components.initial_states import Zero\n",
    "from qiskit.aqua.algorithms.adaptive import VQE\n",
    "from qiskit.aqua.algorithms.classical import ExactEigensolver\n",
    "from qiskit.aqua.components.variational_forms import RY, RYRZ, swaprz\n",
    "from qiskit.aqua.components.optimizers import COBYLA, L_BFGS_B, SLSQP\n",
    "from qiskit.aqua import QuantumInstance, aqua_globals"
   ]
  },
  {
   "cell_type": "markdown",
   "metadata": {},
   "source": [
    "## DIY problems: How to find the lowest eigenvalue of given matrix?"
   ]
  },
  {
   "cell_type": "markdown",
   "metadata": {},
   "source": [
    "### $M=\\begin{bmatrix}\n",
    "−0.2524859 & 0.18121 \\\\ \n",
    "0.18121 & −1.8318639\n",
    "\\end{bmatrix}=-1.0421749I+ 0.789689Z+ 0.181210X.$\n",
    "\n",
    "#### toolkits \n",
    "(There may be some bugs)"
   ]
  },
  {
   "cell_type": "code",
   "execution_count": 1,
   "metadata": {},
   "outputs": [],
   "source": [
    "import numpy as np\n",
    "\n",
    "X = np.matrix([[0, 1],[1,0]])\n",
    "Y = np.matrix([[0, -1j],[1j, 0]])\n",
    "Z = np.matrix([[1,0],[0,-1]])\n",
    "I = np.matrix([[1,0],[0,1]])\n",
    "\n",
    "pauli = {'I':I, 'X':X, 'Y': Y, 'Z':  Z}\n",
    "\n",
    "def construct_basis(label): \n",
    "     ans = pauli[label[0]] \n",
    "     for i in label[1:]: \n",
    "         ans = np.kron(ans, pauli[i]) \n",
    "     return ans \n",
    "\n",
    "def get_ope(pauli_dict): \n",
    "     ans = 0 \n",
    "     for term in pauli_dict['paulis']: \n",
    "         ans +=  ((term['coeff']['real']+1j*term['coeff']['imag'])*construct_basis(term['label'])) \n",
    "     return ans "
   ]
  },
  {
   "cell_type": "code",
   "execution_count": 13,
   "metadata": {},
   "outputs": [
    {
     "name": "stdout",
     "output_type": "stream",
     "text": [
      "I\t(-1.0421749+0j)\n",
      "Z\t(0.789689+0j)\n",
      "X\t(0.18121+0j)\n",
      "\n"
     ]
    }
   ],
   "source": [
    "# Input the Qubit_Operator (pauli strings form)\n",
    "pauli_dict = {\n",
    "    'paulis': [{\"coeff\": {\"imag\": 0.0, \"real\": -1.0421749}, \"label\": \"I\"},\n",
    "              {\"coeff\": {\"imag\": 0.0, \"real\": 0.789689}, \"label\": \"Z\"},\n",
    "              {\"coeff\": {\"imag\": 0.0, \"real\": 0.181210}, \"label\": \"X\"}\n",
    "              ]\n",
    "}\n",
    "qubit_op = Operator.load_from_dict(pauli_dict)\n",
    "print(qubit_op.print_operators())"
   ]
  },
  {
   "cell_type": "code",
   "execution_count": 14,
   "metadata": {},
   "outputs": [],
   "source": [
    "# Set the optimizer and simulator\n",
    "QC_statevector = BasicAer.get_backend('statevector_simulator')\n",
    "max_eval=100\n",
    "cobyla=COBYLA(maxiter=max_eval)\n",
    "quantum_instance=QuantumInstance(backend=QC_statevector)\n",
    "\n",
    "# Define the ansatz\n",
    "num_qubits = qubit_op.num_qubits\n",
    "init_state = Zero(num_qubits)\n",
    "var_form = RY(num_qubits, initial_state=init_state,depth=1)\n",
    "\n",
    "# Run the VQE\n",
    "vqe = VQE(qubit_op, var_form, cobyla, 'matrix',initial_point=np.zeros(var_form.num_parameters))"
   ]
  },
  {
   "cell_type": "code",
   "execution_count": 15,
   "metadata": {},
   "outputs": [
    {
     "data": {
      "image/png": "[encoded data removed]",
      "text/plain": [
       "<Figure size 481.6x78.26 with 1 Axes>"
      ]
     },
     "execution_count": 15,
     "metadata": {},
     "output_type": "execute_result"
    }
   ],
   "source": [
    "# See the ansatz circuit\n",
    "var_form.construct_circuit(parameters=np.zeros(var_form.num_parameters)).draw(output='mpl')"
   ]
  },
  {
   "cell_type": "markdown",
   "metadata": {},
   "source": [
    "## Run"
   ]
  },
  {
   "cell_type": "code",
   "execution_count": 16,
   "metadata": {},
   "outputs": [],
   "source": [
    "results = vqe.run(quantum_instance)"
   ]
  },
  {
   "cell_type": "code",
   "execution_count": 17,
   "metadata": {},
   "outputs": [
    {
     "data": {
      "text/plain": [
       "{'num_optimizer_evals': 23,\n",
       " 'min_val': -1.8523883148401405,\n",
       " 'opt_params': array([3.3670875]),\n",
       " 'eval_time': 0.0820002555847168,\n",
       " 'eval_count': 23,\n",
       " 'energy': -1.8523883148401405,\n",
       " 'eigvals': array([-1.85238831]),\n",
       " 'min_vector': array([-0.1125087 +0.j,  0.99365074+0.j]),\n",
       " 'eigvecs': array([[-0.1125087 +0.j,  0.99365074+0.j]])}"
      ]
     },
     "execution_count": 17,
     "metadata": {},
     "output_type": "execute_result"
    }
   ],
   "source": [
    "results"
   ]
  }
 ],
 "metadata": {
  "kernelspec": {
   "display_name": "Python 3",
   "language": "python",
   "name": "python3"
  },
  "language_info": {
   "codemirror_mode": {
    "name": "ipython",
    "version": 3
   },
   "file_extension": ".py",
   "mimetype": "text/x-python",
   "name": "python",
   "nbconvert_exporter": "python",
   "pygments_lexer": "ipython3",
   "version": "3.7.3"
  }
 },
 "nbformat": 4,
 "nbformat_minor": 2
}
