{
 "cells": [
  {
   "cell_type": "markdown",
   "metadata": {
    "collapsed": true
   },
   "source": [
    "# _*Qiskit Finance: Portfolio Optimization*_ \n",
    "\n",
    "The latest version of this notebook is available on https://github.com/Qiskit/qiskit-tutorials.\n",
    "\n",
    "***\n",
    "### Contributors\n",
    "Stefan Woerner<sup>[1]</sup>, Daniel Egger<sup>[1]</sup>, Shaohan Hu<sup>[1]</sup>, Stephen Wood<sup>[1]</sup>, Marco Pistoia<sup>[1]</sup>\n",
    "### Affliation\n",
    "- <sup>[1]</sup>IBMQ"
   ]
  },
  {
   "cell_type": "markdown",
   "metadata": {},
   "source": [
    "### Introduction\n",
    "\n",
    "[](attachment:portfoli.png)\n",
    "<img src=\"attachment:portfoli.png\" width=\"400\">\n",
    "This tutorial shows how to solve the following mean-variance portfolio optimization problem for $n$ assets:\n",
    "\n",
    "$\\begin{aligned}\n",
    "\\min_{x \\in \\{0, 1\\}^n}  q x^T \\Sigma x - \\mu^T x\\\\\n",
    "\\text{subject to: } 1^T x = B\n",
    "\\end{aligned}$\n",
    "\n",
    "where we use the following notation:\n",
    "- $x \\in \\{0, 1\\}^n$ denotes the vector of binary decision variables, which indicate which assets to pick ($x[i] = 1$) and which not to pick ($x[i] = 0$),\n",
    "- $\\mu \\in \\mathbb{R}^n$ defines the expected returns for the assets,\n",
    "- $\\Sigma \\in \\mathbb{R}^{n \\times n}$ specifies the covariances between the assets,\n",
    "- $q > 0$ controls the risk appetite of the decision maker,\n",
    "- and $B$ denotes the budget, i.e. the number of assets to be selected out of $n$.\n",
    "\n",
    "We assume the following simplifications:\n",
    "- all assets have the same price (normalized to 1),\n",
    "- the full budget $B$ has to be spent, i.e. one has to select exactly $B$ assets.\n",
    "\n",
    "The equality constraint $1^T x = B$ is mapped to a penalty term $p(1^T x - B)^2$ which is scaled by a parameter $p$ and subtracted from the objective function. \n",
    "The resulting problem can be mapped to a Hamiltonian whose groundstate corresponds to  the optimal solution.\n",
    "This notebook shows how to use the Variational Quantum Eigensolver (VQE) or the Quantum Approximate Optimization Algorithm (QAOA) to find the optimal solution for a given set of parameters."
   ]
  },
  {
   "cell_type": "code",
   "execution_count": 1,
   "metadata": {
    "collapsed": true
   },
   "outputs": [],
   "source": [
    "from qiskit import BasicAer\n",
    "from qiskit.aqua import QuantumInstance\n",
    "from qiskit.aqua import Operator, run_algorithm\n",
    "from qiskit.aqua.input import EnergyInput\n",
    "from qiskit.aqua.translators.ising import portfolio\n",
    "from qiskit.aqua.translators.data_providers import RandomDataProvider\n",
    "from qiskit.aqua.algorithms import VQE, QAOA, ExactEigensolver\n",
    "from qiskit.aqua.components.optimizers import COBYLA\n",
    "from qiskit.aqua.components.variational_forms import RY\n",
    "import numpy as np\n",
    "import datetime\n",
    "import warnings\n",
    "warnings.filterwarnings(\"ignore\", category=DeprecationWarning)\n",
    "import matplotlib.pyplot as plt\n",
    "from pandas.plotting import register_matplotlib_converters\n",
    "register_matplotlib_converters()"
   ]
  },
  {
   "cell_type": "markdown",
   "metadata": {},
   "source": [
    "### Define problem instance\n",
    "\n",
    "Here an Operator instance is created for our Hamiltonian. In this case the paulis are from an Ising Hamiltonian translated from the portfolio problem. We use a random portfolio problem for this notebook. It is straight-forward to extend this to using real financial data as illustrated here:<br>\n",
    "[Loading and Processing Stock-Market Time-Series Data](../data_providers/time_series.ipynb)"
   ]
  },
  {
   "cell_type": "code",
   "execution_count": 2,
   "metadata": {
    "collapsed": true
   },
   "outputs": [],
   "source": [
    "# set number of assets (= number of qubits)\n",
    "num_assets = 4\n",
    "\n",
    "# Generate expected return and covariance matrix from (random) time-series\n",
    "stocks = [(\"TICKER%s\" % i) for i in range(num_assets)]\n",
    "data = RandomDataProvider(tickers=stocks,\n",
    "                 start=datetime.datetime(2016,1,1),\n",
    "                 end=datetime.datetime(2016,1,30))\n",
    "data.run()\n"
   ]
  },
  {
   "cell_type": "code",
   "execution_count": 3,
   "metadata": {
    "scrolled": false
   },
   "outputs": [
    {
     "name": "stdout",
     "output_type": "stream",
     "text": [
      "The underlying evolution of stock prices:\n"
     ]
    },
    {
     "data": {
      "image/png": "[encoded data removed]",
      "text/plain": [
       "<Figure size 432x288 with 1 Axes>"
      ]
     },
     "metadata": {
      "needs_background": "light"
     },
     "output_type": "display_data"
    },
    {
     "name": "stdout",
     "output_type": "stream",
     "text": [
      "TICKER0\n",
      "[25.85663552358504, 25.69701399897626, 25.37566295446746, 26.670937062071914, 26.316541753429867, 27.521798725379178, 25.896804706070782, 26.89723368178082, 26.17527004598191, 26.611291311197355, 28.941067953050815, 28.80054206386951, 29.79464018030633, 31.067330694011076, 31.014749630940308, 31.888254722178086, 32.25870074661928, 33.292418928789594, 33.050356641967866, 34.78732223373937, 33.824227286900104, 33.90098979621672, 34.699716827062176, 34.03844839616775, 33.28660782351866, 33.463666343663746, 33.38230163984339, 33.440812492400475, 31.131316381795415]\n",
      "TICKER1\n",
      "[28.287668230059406, 26.963514137658954, 26.38276490460429, 25.493221654334214, 26.508038730878077, 26.400528497236564, 25.509211733453316, 26.17473714313697, 26.205848043093383, 27.350272978439133, 26.67761058610594, 27.47519045360327, 26.1413731784514, 25.471583228302034, 24.532686823429238, 24.56285515878205, 23.58131940680797, 21.289664685570244, 22.63561430322609, 21.855623411170015, 21.519923219745827, 21.324145342596935, 21.27540150849692, 20.55331200462725, 18.829888834478183, 18.08561412220974, 17.728762193946856, 17.181217593408626, 16.912680357289112]\n",
      "TICKER2\n",
      "[31.433740343284953, 30.317425076485026, 29.191853067134936, 29.30927150919683, 30.467049335643242, 32.3522834220607, 32.53181461983425, 31.956554021775126, 32.887832458277536, 33.925829709064594, 34.52457086141179, 36.522816224463455, 37.17431981748712, 37.001850032845645, 36.835037376292824, 37.97857892693694, 38.6337640657808, 37.8692312396021, 36.31008204216477, 36.94299751930015, 36.6253668597727, 38.26793161071804, 38.751874485806646, 36.729569584360014, 37.07965833618551, 36.618571701541, 37.306312257821084, 37.61861104603425, 37.44292945558831]\n",
      "TICKER3\n",
      "[16.52539167447771, 18.111892234550396, 18.25620071133914, 18.256802382697604, 18.212042911764158, 17.598276040639547, 16.442690617591218, 16.520853026994192, 18.46193378219913, 18.020562435073114, 18.21537436055349, 18.862713925342142, 18.59166152832866, 19.142056654848865, 19.52087143215976, 21.345753439998155, 20.783636134347443, 21.365731169358828, 22.290268755182673, 22.78682551034327, 20.65973078657506, 21.440777881245914, 19.714120556898642, 21.093637282548393, 20.249137638060045, 19.635702959288192, 20.322039416771783, 21.46476286160841, 21.38814175742344]\n"
     ]
    }
   ],
   "source": [
    "print(\"The underlying evolution of stock prices:\")\n",
    "for (cnt, s) in enumerate(data._tickers):\n",
    "    plt.plot(data._data[cnt], label=s)\n",
    "plt.legend()\n",
    "plt.show()\n",
    "\n",
    "for (cnt, s) in enumerate(data._tickers):\n",
    "    print(s)\n",
    "    print(data._data[cnt])"
   ]
  },
  {
   "cell_type": "code",
   "execution_count": 4,
   "metadata": {
    "collapsed": true,
    "scrolled": true
   },
   "outputs": [],
   "source": [
    "mu = data.get_period_return_mean_vector() #average increase\n",
    "sigma = data.get_period_return_covariance_matrix() #covariance matrix of increase\n",
    "q = 0.5 # set risk factor\n",
    "budget = 2 # set budget\n",
    "penalty = 4 # set parameter to scale the budget penalty term\n",
    "\n"
   ]
  },
  {
   "cell_type": "markdown",
   "metadata": {},
   "source": [
    "### Mathematical Formulation\n",
    "\n",
    "We wish to minimize \n",
    "\\begin{equation}\n",
    "    \\min_x(qx^T\\Sigma x-\\mu^T x)\n",
    "\\end{equation}\n",
    "subject to \n",
    "\\begin{equation}\n",
    "    (1,...,1)x = B.\n",
    "\\end{equation}\n",
    "\n",
    "The constraint can be converted into a penalty term $p(1^Tx-B)^2$. The function to minimize becomes\n",
    "\\begin{equation}\n",
    "    \\min_x\\{qx^T\\Sigma x - \\mu^T x +p\\cdot|(1,...,1)x-B|^2\\}.\n",
    "\\end{equation}\n",
    "\n",
    "Then, substitute $\\frac{1-Z_i}{2}$ for $x_i$ since $x_i\\in\\{0, 1\\}$ and eigenvalues of $Z_i$ are $\\pm 1$.\n",
    "\n",
    "With this substitution, cost function can be written as \n",
    "\n",
    "\\begin{equation}\n",
    "    \\sum_{i\\neq j}c_{ij}Z_iZ_j + \\sum_ic_iZ_i + \\text{const.}\n",
    "\\end{equation}\n",
    "for some coefficients and constant related to $q, \\Sigma, \\mu, p, N, $ etc."
   ]
  },
  {
   "cell_type": "code",
   "execution_count": 22,
   "metadata": {},
   "outputs": [
    {
     "name": "stdout",
     "output_type": "stream",
     "text": [
      "IIIZ\t0.003258018115791446\n",
      "IIZI\t-0.009189766884836822\n",
      "IIZZ\t1.9999839519841243\n",
      "IZII\t0.0030490489348686633\n",
      "IZIZ\t2.0000516246228464\n",
      "IZZI\t2.000065550578841\n",
      "ZIII\t0.004586887039946586\n",
      "ZIIZ\t2.000020349809768\n",
      "ZIZI\t2.0000321962789545\n",
      "ZZII\t1.9999593309123544\n",
      "\n"
     ]
    }
   ],
   "source": [
    "(qubitOp, offset) = portfolio.get_portfolio_qubitops(mu, sigma, q, budget, penalty)\n",
    "algo_input = EnergyInput(qubitOp)\n",
    "print(qubitOp.print_operators())"
   ]
  },
  {
   "cell_type": "markdown",
   "metadata": {},
   "source": [
    "We define some utility methods to print the results in a nice format."
   ]
  },
  {
   "cell_type": "code",
   "execution_count": 23,
   "metadata": {
    "collapsed": true
   },
   "outputs": [],
   "source": [
    "def index_to_selection(i, num_assets):\n",
    "    s = \"{0:b}\".format(i).rjust(num_assets)\n",
    "    x = np.array([1 if s[i]=='1' else 0 for i in reversed(range(num_assets))])\n",
    "    return x\n",
    "\n",
    "def print_result(result):\n",
    "    selection = portfolio.sample_most_likely(result['eigvecs'][0])\n",
    "    value = portfolio.portfolio_value(selection, mu, sigma, q, budget, penalty)\n",
    "    print('Optimal: selection {}, value {:.4f}'.format(selection, value))\n",
    "\n",
    "    probabilities = np.abs(result['eigvecs'][0])**2\n",
    "    i_sorted = reversed(np.argsort(probabilities))\n",
    "    print('\\n----------------- Full result ---------------------')\n",
    "    print('selection\\tvalue\\t\\tprobability')\n",
    "    print('---------------------------------------------------')\n",
    "    for i in i_sorted:\n",
    "        x = index_to_selection(i, num_assets)\n",
    "        value = portfolio.portfolio_value(x, mu, sigma, q, budget, penalty)    \n",
    "        probability = probabilities[i]\n",
    "        print('%10s\\t%.4f\\t\\t%.4f' %(x, value, probability))"
   ]
  },
  {
   "cell_type": "markdown",
   "metadata": {},
   "source": [
    "### ExactEigensolver (as a classical reference)\n",
    "Lets solve the problem. First classically...\n",
    "\n",
    "We can now use the Operator we built above without regard to the specifics of how it was created. To run an algorithm we need to prepare a configuration params dictionary. We set the algorithm for the ExactEigensolver so we can have a classical reference. The problem is set for 'ising'. Backend is not required since this is computed classically not using quantum computation. The params, along with the algo input containing the operator, are now passed to the algorithm to be run. The result is returned as a dictionary."
   ]
  },
  {
   "cell_type": "code",
   "execution_count": 24,
   "metadata": {},
   "outputs": [
    {
     "name": "stdout",
     "output_type": "stream",
     "text": [
      "Optimal: selection [1 0 0 1], value -0.0157\n",
      "\n",
      "----------------- Full result ---------------------\n",
      "selection\tvalue\t\tprobability\n",
      "---------------------------------------------------\n",
      " [1 0 0 1]\t-0.0157\t\t1.0000\n",
      " [1 1 1 1]\t15.9966\t\t0.0000\n",
      " [0 1 1 1]\t4.0030\t\t0.0000\n",
      " [1 0 1 1]\t3.9780\t\t0.0000\n",
      " [0 0 1 1]\t-0.0156\t\t0.0000\n",
      " [1 1 0 1]\t4.0025\t\t0.0000\n",
      " [0 1 0 1]\t0.0091\t\t0.0000\n",
      " [0 0 0 1]\t3.9908\t\t0.0000\n",
      " [1 1 1 0]\t4.0057\t\t0.0000\n",
      " [0 1 1 0]\t0.0122\t\t0.0000\n",
      " [1 0 1 0]\t-0.0127\t\t0.0000\n",
      " [0 0 1 0]\t3.9937\t\t0.0000\n",
      " [1 1 0 0]\t0.0115\t\t0.0000\n",
      " [0 1 0 0]\t4.0182\t\t0.0000\n",
      " [1 0 0 0]\t3.9934\t\t0.0000\n",
      " [0 0 0 0]\t16.0000\t\t0.0000\n"
     ]
    }
   ],
   "source": [
    "exact_eigensolver = ExactEigensolver(qubitOp, k=1)\n",
    "result = exact_eigensolver.run()\n",
    "\n",
    "\"\"\" the equivalent if using declarative approach\n",
    "algorithm_cfg = {\n",
    "    'name': 'ExactEigensolver'\n",
    "}\n",
    "\n",
    "params = {\n",
    "    'problem': {'name': 'ising'},\n",
    "    'algorithm': algorithm_cfg\n",
    "}\n",
    "result = run_algorithm(params, algo_input)\n",
    "\"\"\"\n",
    "\n",
    "print_result(result)"
   ]
  },
  {
   "cell_type": "markdown",
   "metadata": {},
   "source": [
    "### Solution using VQE\n",
    "We can now use the Variational Quantum Eigensolver (VQE) to solve the problem. We will specify the optimizer and variational form to be used.\n",
    "\n",
    "Note: You can switch to different backends by providing the name of backend."
   ]
  },
  {
   "cell_type": "code",
   "execution_count": 25,
   "metadata": {},
   "outputs": [
    {
     "name": "stdout",
     "output_type": "stream",
     "text": [
      "Optimal: selection [0 1 1 0], value 0.0122\n",
      "\n",
      "----------------- Full result ---------------------\n",
      "selection\tvalue\t\tprobability\n",
      "---------------------------------------------------\n",
      " [0 1 1 0]\t0.0122\t\t0.4185\n",
      " [1 1 0 0]\t0.0115\t\t0.3286\n",
      " [1 0 1 0]\t-0.0127\t\t0.2336\n",
      " [0 1 0 1]\t0.0091\t\t0.0115\n",
      " [1 0 0 1]\t-0.0157\t\t0.0046\n",
      " [0 0 1 1]\t-0.0156\t\t0.0032\n",
      " [0 1 1 1]\t4.0030\t\t0.0000\n",
      " [1 1 0 1]\t4.0025\t\t0.0000\n",
      " [1 0 1 1]\t3.9780\t\t0.0000\n",
      " [0 0 0 1]\t3.9908\t\t0.0000\n",
      " [1 1 1 1]\t15.9966\t\t0.0000\n",
      " [1 1 1 0]\t4.0057\t\t0.0000\n",
      " [0 0 0 0]\t16.0000\t\t0.0000\n",
      " [1 0 0 0]\t3.9934\t\t0.0000\n",
      " [0 0 1 0]\t3.9937\t\t0.0000\n",
      " [0 1 0 0]\t4.0182\t\t0.0000\n"
     ]
    }
   ],
   "source": [
    "backend = BasicAer.get_backend('statevector_simulator')\n",
    "seed = 50\n",
    "\n",
    "cobyla = COBYLA()\n",
    "cobyla.set_options(maxiter=500)\n",
    "ry = RY(qubitOp.num_qubits, depth=3, entanglement='full')\n",
    "vqe = VQE(qubitOp, ry, cobyla)\n",
    "vqe.random_seed = seed\n",
    "\n",
    "quantum_instance = QuantumInstance(backend=backend, seed=seed, seed_transpiler=seed)\n",
    "\n",
    "result = vqe.run(quantum_instance)\n",
    "\n",
    "\"\"\"declarative approach\n",
    "algorithm_cfg = {\n",
    "    'name': 'VQE',\n",
    "    'operator_mode': 'matrix'\n",
    "}\n",
    "\n",
    "optimizer_cfg = {\n",
    "    'name': 'COBYLA',\n",
    "    'maxiter': 500\n",
    "}\n",
    "\n",
    "var_form_cfg = {\n",
    "    'name': 'RY',\n",
    "    'depth': 3,\n",
    "    'entanglement': 'full'\n",
    "}\n",
    "\n",
    "params = {\n",
    "    'problem': {'name': 'ising', 'random_seed': seed},\n",
    "    'algorithm': algorithm_cfg,\n",
    "    'optimizer': optimizer_cfg,\n",
    "    'variational_form': var_form_cfg\n",
    "}\n",
    "result = run_algorithm(params, algo_input, backend=backend)\n",
    "\"\"\"\n",
    "print_result(result)"
   ]
  },
  {
   "cell_type": "markdown",
   "metadata": {},
   "source": [
    "### Solution using QAOA\n",
    "\n",
    "We also show here a result using the Quantum Approximate Optimization Algorithm (QAOA). This is another variational algorithm and it uses an internal variational form that is created based on the problem."
   ]
  },
  {
   "cell_type": "code",
   "execution_count": 26,
   "metadata": {},
   "outputs": [
    {
     "name": "stdout",
     "output_type": "stream",
     "text": [
      "Optimal: selection [0 1 1 0], value 0.0122\n",
      "\n",
      "----------------- Full result ---------------------\n",
      "selection\tvalue\t\tprobability\n",
      "---------------------------------------------------\n",
      " [0 1 1 0]\t0.0122\t\t0.1671\n",
      " [1 1 0 0]\t0.0115\t\t0.1671\n",
      " [0 1 0 1]\t0.0091\t\t0.1670\n",
      " [1 0 1 0]\t-0.0127\t\t0.1663\n",
      " [0 0 1 1]\t-0.0156\t\t0.1663\n",
      " [1 0 0 1]\t-0.0157\t\t0.1662\n",
      " [1 1 1 1]\t15.9966\t\t0.0000\n",
      " [0 0 0 0]\t16.0000\t\t0.0000\n",
      " [0 1 0 0]\t4.0182\t\t0.0000\n",
      " [1 1 1 0]\t4.0057\t\t0.0000\n",
      " [0 1 1 1]\t4.0030\t\t0.0000\n",
      " [1 1 0 1]\t4.0025\t\t0.0000\n",
      " [0 0 1 0]\t3.9937\t\t0.0000\n",
      " [1 0 0 0]\t3.9934\t\t0.0000\n",
      " [0 0 0 1]\t3.9908\t\t0.0000\n",
      " [1 0 1 1]\t3.9780\t\t0.0000\n"
     ]
    }
   ],
   "source": [
    "backend = BasicAer.get_backend('statevector_simulator')\n",
    "seed = 50\n",
    "\n",
    "cobyla = COBYLA()\n",
    "cobyla.set_options(maxiter=250)\n",
    "qaoa = QAOA(qubitOp, cobyla, 3)\n",
    "\n",
    "qaoa.random_seed = seed\n",
    "\n",
    "quantum_instance = QuantumInstance(backend=backend, seed=seed, seed_transpiler=seed)\n",
    "\n",
    "result = qaoa.run(quantum_instance)\n",
    "\n",
    "\"\"\"declarative approach\n",
    "algorithm_cfg = {\n",
    "    'name': 'QAOA.Variational',\n",
    "    'p': 3,\n",
    "    'operator_mode': 'matrix'\n",
    "}\n",
    "\n",
    "optimizer_cfg = {\n",
    "    'name': 'COBYLA',\n",
    "    'maxiter': 250\n",
    "}\n",
    "\n",
    "params = {\n",
    "    'problem': {'name': 'ising', 'random_seed': seed},\n",
    "    'algorithm': algorithm_cfg,\n",
    "    'optimizer': optimizer_cfg\n",
    "}\n",
    "result = run_algorithm(params, algo_input, backend=backend)\n",
    "\"\"\"\n",
    "print_result(result)"
   ]
  },
  {
   "cell_type": "markdown",
   "metadata": {},
   "source": [
    "reference:\n",
    "\n",
    "\n",
    "https://github.com/Qiskit/qiskit-tutorials/blob/master/qiskit/finance/optimization/portfolio_optimization.ipynb\n",
    "\n",
    "\n",
    "https://github.com/Qiskit/qiskit-tutorials/blob/d8308cdf717046923a8f01e0c899ef3f19401c63/qiskit/finance/data_providers/time_series.ipynb\n"
   ]
  },
  {
   "cell_type": "code",
   "execution_count": null,
   "metadata": {
    "collapsed": true
   },
   "outputs": [],
   "source": []
  },
  {
   "cell_type": "markdown",
   "metadata": {},
   "source": [
    "The cost function can be written as\n",
    "    \n",
    "\\begin{equation}\n",
    "    \\sum_{i,j}w_{i,j}n_in_j+\\sum_iw_in_i,\n",
    "\\end{equation}\n",
    "where $w_{i,j}$ and $w_i$ is the coefficient depending on  ($\\mu$, $\\Sigma$, $q$, $B$, penalty).\n",
    "$n_i$ is the operator that can tell us the state of the qubit.\n",
    "\n",
    "Ex:\n",
    "\\begin{equation}\n",
    "n|1> =1|1>, \\ \\ \\ \\ \\ n|0> =0|0>=0\n",
    "\\end{equation}\n",
    "\n",
    "The $n_i$ operator also can be transform into Pauli Z matrices:\n",
    "\\begin{equation}\n",
    "n_i=(1-Z_i)\n",
    "\\end{equation}\n",
    "Then, the cost function is as \n",
    "\\begin{equation}\n",
    "\\sum_{i,j}w'_{ij}Z_iZ_j+\\sum_iw'_iZ_i\n",
    "\\end{equation}\n"
   ]
  }
 ],
 "metadata": {
  "anaconda-cloud": {},
  "kernelspec": {
   "display_name": "Python 3",
   "language": "python",
   "name": "python3"
  },
  "language_info": {
   "codemirror_mode": {
    "name": "ipython",
    "version": 3
   },
   "file_extension": ".py",
   "mimetype": "text/x-python",
   "name": "python",
   "nbconvert_exporter": "python",
   "pygments_lexer": "ipython3",
   "version": "3.7.3"
  }
 },
 "nbformat": 4,
 "nbformat_minor": 1
}
