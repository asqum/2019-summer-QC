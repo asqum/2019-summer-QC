{
 "cells": [
  {
   "cell_type": "markdown",
   "metadata": {},
   "source": [
    "# 安裝 Qiskit (macOS)\n",
    "\n",
    "\n",
    "1. 下載 Anaconda (https://www.anaconda.com/distribution/)\n",
    "\n",
    "2. 打開 terminal（從 spotlight 搜尋 \"terminal\"）並切換到打算工作的資料夾\n",
    "    \n",
    "    (`cd FOLDER_NAME` 可進入 FOLDER_NAME 資料夾、 `cd ..` 可退出目前資料夾）\n",
    "    \n",
    "\n",
    "3. 為避免環境污染，可使用新的虛擬環境：\n",
    "    * 建立 ENV_NAME 環境：`conda create --name ENV_NAME python=3.5` \n",
    "    * 切換至 ENV_NAME 環境：`conda activate ENV_NAME`\n",
    "    * 退出環境：`conda deactivate`\n",
    "    \n",
    "4. 在新的環境安裝 jupyter, matplotlib, qiskit\n",
    "    * `pip install jupyter`\n",
    "    * `pip install matplotlib`\n",
    "    * `pip install qiskit`\n",
    "\n",
    "5. 在（正確環境的）terminal 執行 `jupyter notebook` 可於瀏覽器打開 jupyter notebook"
   ]
  },
  {
   "cell_type": "markdown",
   "metadata": {},
   "source": [
    "## 確認版本"
   ]
  },
  {
   "cell_type": "code",
   "execution_count": null,
   "metadata": {},
   "outputs": [],
   "source": [
    "## Check qiskit version\n",
    "from qiskit import version\n",
    "version._get_qiskit_versions()"
   ]
  },
  {
   "cell_type": "markdown",
   "metadata": {},
   "source": [
    "## 基本測試"
   ]
  },
  {
   "cell_type": "code",
   "execution_count": null,
   "metadata": {},
   "outputs": [],
   "source": [
    "from qiskit import QuantumRegister, ClassicalRegister, QuantumCircuit\n",
    "qr = QuantumRegister(2)\n",
    "cr = ClassicalRegister(2)\n",
    "qc = QuantumCircuit(qr, cr)\n",
    "\n",
    "qc.h(0)\n",
    "qc.cx(0,1)\n",
    "qc.measure(qr, cr)\n",
    "\n",
    "%matplotlib inline\n",
    "qc.draw(o)"
   ]
  }
 ],
 "metadata": {
  "kernelspec": {
   "display_name": "Python 3",
   "language": "python",
   "name": "python3"
  },
  "language_info": {
   "codemirror_mode": {
    "name": "ipython",
    "version": 3
   },
   "file_extension": ".py",
   "mimetype": "text/x-python",
   "name": "python",
   "nbconvert_exporter": "python",
   "pygments_lexer": "ipython3",
   "version": "3.7.3"
  }
 },
 "nbformat": 4,
 "nbformat_minor": 2
}
